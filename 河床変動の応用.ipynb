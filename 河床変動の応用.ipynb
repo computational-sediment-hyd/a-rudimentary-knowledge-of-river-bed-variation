{
 "cells": [
  {
   "cell_type": "markdown",
   "metadata": {
    "slideshow": {
     "slide_type": "slide"
    }
   },
   "source": [
    "# 河床変動の応用"
   ]
  },
  {
   "cell_type": "markdown",
   "metadata": {
    "slideshow": {
     "slide_type": "slide"
    }
   },
   "source": [
    "## 混合粒径の河床変動\n",
    "\n",
    " - 実際の川の河床材料は分布を持っている．"
   ]
  },
  {
   "cell_type": "code",
   "execution_count": 8,
   "metadata": {
    "hide_input": true,
    "slideshow": {
     "slide_type": "-"
    }
   },
   "outputs": [
    {
     "data": {
      "text/html": [
       "\n",
       "        <iframe\n",
       "            width=\"800\"\n",
       "            height=\"350\"\n",
       "            src=\"https://en.wikipedia.org/wiki/Bed_load#/media/File:Thalweg_sediment_campbell_creek.jpg\"\n",
       "            frameborder=\"0\"\n",
       "            allowfullscreen\n",
       "        ></iframe>\n",
       "        "
      ],
      "text/plain": [
       "<IPython.lib.display.IFrame at 0x285f5032cc0>"
      ]
     },
     "execution_count": 8,
     "metadata": {},
     "output_type": "execute_result"
    }
   ],
   "source": [
    "from IPython.display import IFrame\n",
    "IFrame(\"https://en.wikipedia.org/wiki/Bed_load#/media/File:Thalweg_sediment_campbell_creek.jpg\",width=800,height=350)"
   ]
  },
  {
   "cell_type": "markdown",
   "metadata": {
    "slideshow": {
     "slide_type": "slide"
    }
   },
   "source": [
    " - 先程のモデルを混合粒径モデルに拡張する．\n",
    " - 河床変動と同時に表層河床材料の粒度分布の変化を計算する\n",
    " \n",
    "\\begin{align}\n",
    "    (1-\\lambda)\\frac{\\partial A_{b}}{\\partial t}+\\frac{\\partial }{\\partial x} \\sum_{i=1}^n ( Q_{bi}P_i) &= 0 \\\\\n",
    "    Q_{bi} = { \\rm func} (\\tau_{*i} )\n",
    "\\end{align}\n",
    "\n",
    "\\begin{align}\n",
    "    \\frac{\\partial P_i}{\\partial t} &= - \\frac{1}{E_d B}\\left(\\frac{\\partial A_{bi}}{\\partial t} + P_{si}\\frac{\\partial A_b}{\\partial t}\\right) \n",
    "\\end{align}\n",
    "\n",
    "ここに，$P_i$は河床の表層（交換層）の各粒度の含有率"
   ]
  },
  {
   "cell_type": "markdown",
   "metadata": {
    "slideshow": {
     "slide_type": "slide"
    }
   },
   "source": [
    "<div align=\"center\">\n",
    "<img src=\"fig/mixedgrain.jpg\" width=\"500\">\n",
    "</div> \n",
    "「移動床流れの水理学」より引用"
   ]
  },
  {
   "cell_type": "markdown",
   "metadata": {
    "slideshow": {
     "slide_type": "slide"
    }
   },
   "source": [
    " - ここで，$\\tau_{*i}$がポイントとなる．\n",
    " - 平均粒径より大きい粒径は動きやすく(突出効果)，小さい粒径は動きにくくなる(遮蔽効果)影響を考慮して設定する．\n",
    " - いくつかの経験則が提案されているが，エギアザロフの式が有名．\n",
    " \n",
    " \n",
    "<div align=\"center\">\n",
    "    <img src=\"fig/mixedgrain.svg\" width=\"500\">\n",
    "</div>"
   ]
  },
  {
   "cell_type": "markdown",
   "metadata": {
    "slideshow": {
     "slide_type": "slide"
    }
   },
   "source": [
    " - 計算例\n",
    "  * ダム堆砂のイメージ\n",
    "  * 河床勾配1/200，上流端からの供給土砂量を0"
   ]
  },
  {
   "cell_type": "code",
   "execution_count": 11,
   "metadata": {
    "hide_input": true,
    "slideshow": {
     "slide_type": "slide"
    }
   },
   "outputs": [
    {
     "data": {
      "text/html": [
       "\n",
       "        <iframe\n",
       "            width=\"800\"\n",
       "            height=\"350\"\n",
       "            src=\"fig/case3.html\"\n",
       "            frameborder=\"0\"\n",
       "            allowfullscreen\n",
       "        ></iframe>\n",
       "        "
      ],
      "text/plain": [
       "<IPython.lib.display.IFrame at 0x285f5032c18>"
      ]
     },
     "execution_count": 11,
     "metadata": {},
     "output_type": "execute_result"
    }
   ],
   "source": [
    "from IPython.display import IFrame\n",
    "IFrame(\"fig/case3.html\",width=800,height=350)"
   ]
  },
  {
   "cell_type": "markdown",
   "metadata": {
    "slideshow": {
     "slide_type": "slide"
    }
   },
   "source": [
    "## 平面的な河床変動\n",
    "作成中.\n",
    "\n",
    "$$ \n",
    "\\begin{align}\n",
    "    (1-\\lambda)\\frac{\\partial z_{b}}{\\partial t}+\\frac{\\partial q_{bx}}{\\partial x} + \\frac{\\partial q_{by}}{\\partial y} &= 0 \\\\\n",
    "     \\boldsymbol{q_b}(q_{bx},q_{by}) &= {\\rm func} ( \\boldsymbol{\\tau_*})\n",
    "\\end{align}\n",
    "$$\n"
   ]
  }
 ],
 "metadata": {
  "celltoolbar": "Slideshow",
  "kernelspec": {
   "display_name": "Python 3",
   "language": "python",
   "name": "python3"
  },
  "language_info": {
   "codemirror_mode": {
    "name": "ipython",
    "version": 3
   },
   "file_extension": ".py",
   "mimetype": "text/x-python",
   "name": "python",
   "nbconvert_exporter": "python",
   "pygments_lexer": "ipython3",
   "version": "3.6.10"
  },
  "toc": {
   "base_numbering": 1,
   "nav_menu": {},
   "number_sections": true,
   "sideBar": true,
   "skip_h1_title": false,
   "title_cell": "Table of Contents",
   "title_sidebar": "Contents",
   "toc_cell": false,
   "toc_position": {},
   "toc_section_display": true,
   "toc_window_display": false
  }
 },
 "nbformat": 4,
 "nbformat_minor": 2
}
