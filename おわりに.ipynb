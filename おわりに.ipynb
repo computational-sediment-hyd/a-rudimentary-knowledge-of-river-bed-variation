{
 "cells": [
  {
   "cell_type": "markdown",
   "metadata": {
    "slideshow": {
     "slide_type": "slide"
    }
   },
   "source": [
    "# おわりに"
   ]
  },
  {
   "cell_type": "markdown",
   "metadata": {
    "slideshow": {
     "slide_type": "slide"
    }
   },
   "source": [
    "## 土砂水理入門\n",
    "\n",
    " - 式を眺めていてもなかなか理解できないので，邪道ではあるが計算してみることをおすすめする．\n",
    " - いきなり数値解析はハードルが高いので，まずは数式を図化してみることから始めてみて下さい．かなり気付きがあると思います．"
   ]
  },
  {
   "cell_type": "markdown",
   "metadata": {
    "slideshow": {
     "slide_type": "slide"
    }
   },
   "source": [
    "## 土砂水理の役割\n",
    "\n",
    " - 川は本来蛇行したり網状化したり自由に流れるものである。\n",
    " - このような川の営みは出水とそれによって流れる土砂によって成りなっている。\n",
    " - 反対にそれらが無いと川は川では無くなる。\n",
    " - 水と土砂の運動を制限するものは、ダム、堰、堤防等の人工構造物である。"
   ]
  },
  {
   "cell_type": "markdown",
   "metadata": {
    "slideshow": {
     "slide_type": "slide"
    }
   },
   "source": [
    " - （多分ダムによって）死んだ川。河道内に木本類が繁茂したらアウト。もう元に戻りません。"
   ]
  },
  {
   "cell_type": "code",
   "execution_count": 3,
   "metadata": {
    "hide_input": true,
    "slideshow": {
     "slide_type": "fragment"
    }
   },
   "outputs": [
    {
     "data": {
      "text/html": [
       "\n",
       "        <iframe\n",
       "            width=\"800\"\n",
       "            height=\"400\"\n",
       "            src=\"https://maps.gsi.go.jp/?hc=hic#15/36.354588/137.903802/&base=ort&ls=ort&disp=1&vs=c1j0h0k0l0u0t0z0r0s1m0f0&vs2=f0&sync=1&ls2=gazo1&disp2=1\"\n",
       "            frameborder=\"0\"\n",
       "            allowfullscreen\n",
       "        ></iframe>\n",
       "        "
      ],
      "text/plain": [
       "<IPython.lib.display.IFrame at 0x248d832bd68>"
      ]
     },
     "execution_count": 3,
     "metadata": {},
     "output_type": "execute_result"
    }
   ],
   "source": [
    "from IPython.display import IFrame\n",
    "IFrame( \"https://maps.gsi.go.jp/?hc=hic#15/36.354588/137.903802/&base=ort&ls=ort&disp=1&vs=c1j0h0k0l0u0t0z0r0s1m0f0&vs2=f0&sync=1&ls2=gazo1&disp2=1\" ,width=800,height=400)"
   ]
  },
  {
   "cell_type": "markdown",
   "metadata": {
    "slideshow": {
     "slide_type": "slide"
    }
   },
   "source": [
    " - こんな問題を解決するのが土砂水理の役割です。\n",
    " - 川を殺さずに洪水も氾濫も無いような川を作らないといけないですね。"
   ]
  }
 ],
 "metadata": {
  "celltoolbar": "Slideshow",
  "kernelspec": {
   "display_name": "Python 3",
   "language": "python",
   "name": "python3"
  },
  "language_info": {
   "codemirror_mode": {
    "name": "ipython",
    "version": 3
   },
   "file_extension": ".py",
   "mimetype": "text/x-python",
   "name": "python",
   "nbconvert_exporter": "python",
   "pygments_lexer": "ipython3",
   "version": "3.6.10"
  },
  "toc": {
   "base_numbering": 1,
   "nav_menu": {},
   "number_sections": true,
   "sideBar": true,
   "skip_h1_title": false,
   "title_cell": "Table of Contents",
   "title_sidebar": "Contents",
   "toc_cell": false,
   "toc_position": {},
   "toc_section_display": true,
   "toc_window_display": false
  }
 },
 "nbformat": 4,
 "nbformat_minor": 2
}
