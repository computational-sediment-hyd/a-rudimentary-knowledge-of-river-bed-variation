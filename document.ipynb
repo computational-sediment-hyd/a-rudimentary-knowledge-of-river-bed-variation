{
 "cells": [
  {
   "cell_type": "markdown",
   "metadata": {
    "hide_input": false
   },
   "source": [
    "[LICENSE](https://raw.githubusercontent.com/computational-sediment-hyd/a-rudimentary-knowledge-of-river-bed-variation/master/LICENSE)"
   ]
  },
  {
   "cell_type": "code",
   "execution_count": 13,
   "metadata": {},
   "outputs": [],
   "source": [
    "from IPython.display import IFrame"
   ]
  },
  {
   "cell_type": "markdown",
   "metadata": {},
   "source": [
    "---"
   ]
  },
  {
   "cell_type": "markdown",
   "metadata": {
    "toc": true
   },
   "source": [
    "<h1>Table of Contents<span class=\"tocSkip\"></span></h1>\n",
    "<div class=\"toc\"><ul class=\"toc-item\"><li><span><a href=\"#沖積河川の砂州形成の数値実験\" data-toc-modified-id=\"沖積河川の砂州形成の数値実験-1\"><span class=\"toc-item-num\">1&nbsp;&nbsp;</span>沖積河川の砂州形成の数値実験</a></span><ul class=\"toc-item\"><li><span><a href=\"#支配方程式\" data-toc-modified-id=\"支配方程式-1.1\"><span class=\"toc-item-num\">1.1&nbsp;&nbsp;</span>支配方程式</a></span><ul class=\"toc-item\"><li><span><a href=\"#流水\" data-toc-modified-id=\"流水-1.1.1\"><span class=\"toc-item-num\">1.1.1&nbsp;&nbsp;</span>流水</a></span></li><li><span><a href=\"#流砂、河床変動\" data-toc-modified-id=\"流砂、河床変動-1.1.2\"><span class=\"toc-item-num\">1.1.2&nbsp;&nbsp;</span>流砂、河床変動</a></span></li></ul></li><li><span><a href=\"#計算条件\" data-toc-modified-id=\"計算条件-1.2\"><span class=\"toc-item-num\">1.2&nbsp;&nbsp;</span>計算条件</a></span></li><li><span><a href=\"#計算結果と考察\" data-toc-modified-id=\"計算結果と考察-1.3\"><span class=\"toc-item-num\">1.3&nbsp;&nbsp;</span>計算結果と考察</a></span><ul class=\"toc-item\"><li><span><a href=\"#砂州形成過程：gif動画\" data-toc-modified-id=\"砂州形成過程：gif動画-1.3.1\"><span class=\"toc-item-num\">1.3.1&nbsp;&nbsp;</span>砂州形成過程：gif動画</a></span></li><li><span><a href=\"#2000時間後\" data-toc-modified-id=\"2000時間後-1.3.2\"><span class=\"toc-item-num\">1.3.2&nbsp;&nbsp;</span>2000時間後</a></span></li><li><span><a href=\"#砂州形成過程：gif動画\" data-toc-modified-id=\"砂州形成過程：gif動画-1.3.3\"><span class=\"toc-item-num\">1.3.3&nbsp;&nbsp;</span>砂州形成過程：gif動画</a></span></li></ul></li></ul></li></ul></div>"
   ]
  },
  {
   "cell_type": "markdown",
   "metadata": {},
   "source": [
    "## 沖積河川の砂州形成の数値実験"
   ]
  },
  {
   "cell_type": "markdown",
   "metadata": {},
   "source": [
    "### 支配方程式"
   ]
  },
  {
   "cell_type": "markdown",
   "metadata": {},
   "source": [
    "#### 流水\n",
    " - 平面二次元水深平均流モデル\n",
    " \n",
    "#### 流砂、河床変動\n",
    "\n",
    " - 河床位方程式\n",
    " - 掃流砂のみ、単一粒径、平衡流砂量式MPM式\n",
    " - 限界掃流力に局所勾配の影響を考慮する。**砂州の計算では最も重要な要素でこれがないと砂州が計算できない。** [芦田, 江頭, 劉の方法](https://www.jstage.jst.go.jp/article/prohe1990/35/0/35_0_383/_article/-char/ja)を基本に若干の修正を加えた。\n",
    " - 斜面崩壊の影響を考慮する。後述するCASE3のみに影響する。[関根の方法](https://www.jstage.jst.go.jp/article/prohe1990/47/0/47_0_637/_article/-char/ja/)を基本に修正を加えた。"
   ]
  },
  {
   "cell_type": "markdown",
   "metadata": {},
   "source": [
    "### 計算条件"
   ]
  },
  {
   "cell_type": "markdown",
   "metadata": {},
   "source": [
    "斐伊川下流部をモデルに設定した。初期水深を変えた3ケースの計算を行った。\n",
    "\n",
    " - 河床勾配：1/670\n",
    " \n",
    " - 河床材料：2mm\n",
    " \n",
    " - 川幅：90m\n",
    " - 延長：1800m\n",
    " \n",
    " - 格子サイズ: 5m\n",
    " \n",
    " - 境界条件\n",
    "     * 上下流端：周期境界条件\n",
    "     * 左右岸境界：壁境界\n",
    "     \n",
    " - 初期条件\n",
    "     * 河床：最大値を粒径とした乱数を与える\n",
    "     * 初期水深\n",
    "         - CASE1 : 1.0m\n",
    "         - CASE2 : 0.6m\n",
    "         - CASE3 : 0.3m\n",
    "     * 無次元掃流力：\n",
    "         - CASE1 : 0.452\n",
    "         - CASE2 : 0.271\n",
    "         - CASE3 : 0.136\n"
   ]
  },
  {
   "cell_type": "markdown",
   "metadata": {},
   "source": [
    " - 計算ケースごとの川幅水深比と無次元掃流力の関係を[黒木, 岸](https://www.jstage.jst.go.jp/article/jscej1969/1984/342/1984_342_87/_article/-char/ja/)\n",
    "の線形安定化解析に基づく砂州形態の分類図にプロットした。\n",
    " - CASE1は単列砂州、CASE2、3は複列砂州の領域となる。"
   ]
  },
  {
   "cell_type": "markdown",
   "metadata": {},
   "source": [
    "<div align=\"center\">\n",
    "<img src=\"https://raw.githubusercontent.com/computational-sediment-hyd/a-rudimentary-knowledge-of-river-bed-variation/master/figSandbarSimulation/sandbaraddpoint.png\" width=\"500\">\n",
    "</div>"
   ]
  },
  {
   "cell_type": "markdown",
   "metadata": {},
   "source": [
    "### 計算結果と考察"
   ]
  },
  {
   "cell_type": "markdown",
   "metadata": {},
   "source": [
    "#### 砂州形成過程：gif動画"
   ]
  },
  {
   "cell_type": "markdown",
   "metadata": {},
   "source": [
    " - CASE1"
   ]
  },
  {
   "cell_type": "code",
   "execution_count": 21,
   "metadata": {},
   "outputs": [
    {
     "data": {
      "text/html": [
       "\n",
       "        <iframe\n",
       "            width=\"1000\"\n",
       "            height=\"350\"\n",
       "            src=\"https://computational-sediment-hyd.github.io/a-rudimentary-knowledge-of-river-bed-variation/figSandbarSimulation/CASE1-300h.html\"\n",
       "            frameborder=\"0\"\n",
       "            allowfullscreen\n",
       "        ></iframe>\n",
       "        "
      ],
      "text/plain": [
       "<IPython.lib.display.IFrame at 0x274f5de6780>"
      ]
     },
     "execution_count": 21,
     "metadata": {},
     "output_type": "execute_result"
    }
   ],
   "source": [
    "IFrame(\"https://computational-sediment-hyd.github.io/a-rudimentary-knowledge-of-river-bed-variation/figSandbarSimulation/CASE1-300h.html\",width=1000,height=350)"
   ]
  },
  {
   "cell_type": "markdown",
   "metadata": {},
   "source": [
    " - CASE2"
   ]
  },
  {
   "cell_type": "code",
   "execution_count": 11,
   "metadata": {},
   "outputs": [
    {
     "data": {
      "text/html": [
       "\n",
       "        <iframe\n",
       "            width=\"1000\"\n",
       "            height=\"350\"\n",
       "            src=\"https://computational-sediment-hyd.github.io/a-rudimentary-knowledge-of-river-bed-variation/figSandbarSimulation/CASE2-300h.html\"\n",
       "            frameborder=\"0\"\n",
       "            allowfullscreen\n",
       "        ></iframe>\n",
       "        "
      ],
      "text/plain": [
       "<IPython.lib.display.IFrame at 0x274f5de6048>"
      ]
     },
     "execution_count": 11,
     "metadata": {},
     "output_type": "execute_result"
    }
   ],
   "source": [
    "IFrame(\"https://computational-sediment-hyd.github.io/a-rudimentary-knowledge-of-river-bed-variation/figSandbarSimulation/CASE2-300h.html\",width=1000,height=350)"
   ]
  },
  {
   "cell_type": "markdown",
   "metadata": {},
   "source": [
    " - CASE3"
   ]
  },
  {
   "cell_type": "code",
   "execution_count": 12,
   "metadata": {},
   "outputs": [
    {
     "data": {
      "text/html": [
       "\n",
       "        <iframe\n",
       "            width=\"1000\"\n",
       "            height=\"350\"\n",
       "            src=\"https://computational-sediment-hyd.github.io/a-rudimentary-knowledge-of-river-bed-variation/figSandbarSimulation/CASE3-300h.html\"\n",
       "            frameborder=\"0\"\n",
       "            allowfullscreen\n",
       "        ></iframe>\n",
       "        "
      ],
      "text/plain": [
       "<IPython.lib.display.IFrame at 0x274f5de6198>"
      ]
     },
     "execution_count": 12,
     "metadata": {},
     "output_type": "execute_result"
    }
   ],
   "source": [
    "IFrame(\"https://computational-sediment-hyd.github.io/a-rudimentary-knowledge-of-river-bed-variation/figSandbarSimulation/CASE3-300h.html\",width=1000,height=350)"
   ]
  },
  {
   "cell_type": "markdown",
   "metadata": {},
   "source": [
    "#### 2000時間後"
   ]
  },
  {
   "cell_type": "code",
   "execution_count": null,
   "metadata": {},
   "outputs": [],
   "source": []
  },
  {
   "cell_type": "markdown",
   "metadata": {},
   "source": [
    " - CASE1"
   ]
  },
  {
   "cell_type": "code",
   "execution_count": 14,
   "metadata": {},
   "outputs": [
    {
     "data": {
      "text/html": [
       "\n",
       "        <iframe\n",
       "            width=\"1000\"\n",
       "            height=\"350\"\n",
       "            src=\"https://computational-sediment-hyd.github.io/a-rudimentary-knowledge-of-river-bed-variation/figSandbarSimulation/CASE1-2000h.html\"\n",
       "            frameborder=\"0\"\n",
       "            allowfullscreen\n",
       "        ></iframe>\n",
       "        "
      ],
      "text/plain": [
       "<IPython.lib.display.IFrame at 0x274f5de6278>"
      ]
     },
     "execution_count": 14,
     "metadata": {},
     "output_type": "execute_result"
    }
   ],
   "source": [
    "IFrame(\"https://computational-sediment-hyd.github.io/a-rudimentary-knowledge-of-river-bed-variation/figSandbarSimulation/CASE1-2000h.html\",width=1000,height=350)"
   ]
  },
  {
   "cell_type": "markdown",
   "metadata": {},
   "source": [
    " - CASE2"
   ]
  },
  {
   "cell_type": "code",
   "execution_count": 15,
   "metadata": {},
   "outputs": [
    {
     "data": {
      "text/html": [
       "\n",
       "        <iframe\n",
       "            width=\"1000\"\n",
       "            height=\"350\"\n",
       "            src=\"https://computational-sediment-hyd.github.io/a-rudimentary-knowledge-of-river-bed-variation/figSandbarSimulation/CASE2-2000h.html\"\n",
       "            frameborder=\"0\"\n",
       "            allowfullscreen\n",
       "        ></iframe>\n",
       "        "
      ],
      "text/plain": [
       "<IPython.lib.display.IFrame at 0x274f5de6128>"
      ]
     },
     "execution_count": 15,
     "metadata": {},
     "output_type": "execute_result"
    }
   ],
   "source": [
    "IFrame(\"https://computational-sediment-hyd.github.io/a-rudimentary-knowledge-of-river-bed-variation/figSandbarSimulation/CASE2-2000h.html\",width=1000,height=350)"
   ]
  },
  {
   "cell_type": "markdown",
   "metadata": {},
   "source": [
    " - CASE3"
   ]
  },
  {
   "cell_type": "code",
   "execution_count": 16,
   "metadata": {},
   "outputs": [
    {
     "data": {
      "text/html": [
       "\n",
       "        <iframe\n",
       "            width=\"1000\"\n",
       "            height=\"350\"\n",
       "            src=\"https://computational-sediment-hyd.github.io/a-rudimentary-knowledge-of-river-bed-variation/figSandbarSimulation/CASE3-2000h.html\"\n",
       "            frameborder=\"0\"\n",
       "            allowfullscreen\n",
       "        ></iframe>\n",
       "        "
      ],
      "text/plain": [
       "<IPython.lib.display.IFrame at 0x274f5de61d0>"
      ]
     },
     "execution_count": 16,
     "metadata": {},
     "output_type": "execute_result"
    }
   ],
   "source": [
    "IFrame(\"https://computational-sediment-hyd.github.io/a-rudimentary-knowledge-of-river-bed-variation/figSandbarSimulation/CASE3-2000h.html\",width=1000,height=350)"
   ]
  },
  {
   "cell_type": "code",
   "execution_count": null,
   "metadata": {},
   "outputs": [],
   "source": []
  },
  {
   "cell_type": "markdown",
   "metadata": {},
   "source": [
    "#### 砂州形成過程：gif動画"
   ]
  },
  {
   "cell_type": "markdown",
   "metadata": {},
   "source": [
    " - CASE1"
   ]
  },
  {
   "cell_type": "code",
   "execution_count": 8,
   "metadata": {},
   "outputs": [
    {
     "data": {
      "text/html": [
       "\n",
       "        <iframe\n",
       "            width=\"1000\"\n",
       "            height=\"350\"\n",
       "            src=\"https://computational-sediment-hyd.github.io/a-rudimentary-knowledge-of-river-bed-variation/figSandbarSimulation/CASE1.gif\"\n",
       "            frameborder=\"0\"\n",
       "            allowfullscreen\n",
       "        ></iframe>\n",
       "        "
      ],
      "text/plain": [
       "<IPython.lib.display.IFrame at 0x274f5dacda0>"
      ]
     },
     "execution_count": 8,
     "metadata": {},
     "output_type": "execute_result"
    }
   ],
   "source": [
    "IFrame(\"https://computational-sediment-hyd.github.io/a-rudimentary-knowledge-of-river-bed-variation/figSandbarSimulation/CASE1.gif\",width=1000,height=350)"
   ]
  },
  {
   "cell_type": "markdown",
   "metadata": {},
   "source": [
    " - CASE2"
   ]
  },
  {
   "cell_type": "code",
   "execution_count": 9,
   "metadata": {},
   "outputs": [
    {
     "data": {
      "text/html": [
       "\n",
       "        <iframe\n",
       "            width=\"1000\"\n",
       "            height=\"350\"\n",
       "            src=\"https://computational-sediment-hyd.github.io/a-rudimentary-knowledge-of-river-bed-variation/figSandbarSimulation/CASE2.gif\"\n",
       "            frameborder=\"0\"\n",
       "            allowfullscreen\n",
       "        ></iframe>\n",
       "        "
      ],
      "text/plain": [
       "<IPython.lib.display.IFrame at 0x274f5dacc18>"
      ]
     },
     "execution_count": 9,
     "metadata": {},
     "output_type": "execute_result"
    }
   ],
   "source": [
    "IFrame(\"https://computational-sediment-hyd.github.io/a-rudimentary-knowledge-of-river-bed-variation/figSandbarSimulation/CASE2.gif\",width=1000,height=350)"
   ]
  },
  {
   "cell_type": "markdown",
   "metadata": {},
   "source": [
    " -  CASE3"
   ]
  },
  {
   "cell_type": "code",
   "execution_count": 10,
   "metadata": {},
   "outputs": [
    {
     "data": {
      "text/html": [
       "\n",
       "        <iframe\n",
       "            width=\"1000\"\n",
       "            height=\"350\"\n",
       "            src=\"https://computational-sediment-hyd.github.io/a-rudimentary-knowledge-of-river-bed-variation/figSandbarSimulation/CASE3.gif\"\n",
       "            frameborder=\"0\"\n",
       "            allowfullscreen\n",
       "        ></iframe>\n",
       "        "
      ],
      "text/plain": [
       "<IPython.lib.display.IFrame at 0x274f5dacc50>"
      ]
     },
     "execution_count": 10,
     "metadata": {},
     "output_type": "execute_result"
    }
   ],
   "source": [
    "IFrame(\"https://computational-sediment-hyd.github.io/a-rudimentary-knowledge-of-river-bed-variation/figSandbarSimulation/CASE3.gif\",width=1000,height=350)"
   ]
  },
  {
   "cell_type": "code",
   "execution_count": null,
   "metadata": {},
   "outputs": [],
   "source": []
  },
  {
   "cell_type": "markdown",
   "metadata": {},
   "source": [
    "------\n",
    " - memo"
   ]
  },
  {
   "cell_type": "code",
   "execution_count": 1,
   "metadata": {},
   "outputs": [],
   "source": [
    "import numpy as np"
   ]
  },
  {
   "cell_type": "code",
   "execution_count": 2,
   "metadata": {},
   "outputs": [
    {
     "data": {
      "text/plain": [
       "array([0.45228403, 0.27137042, 0.13568521])"
      ]
     },
     "execution_count": 2,
     "metadata": {},
     "output_type": "execute_result"
    }
   ],
   "source": [
    "ib = 1/670\n",
    "B = 90\n",
    "\n",
    "h = np.array( [1.0, 0.6, 0.3] )\n",
    "d = 2/1000\n",
    "\n",
    "tau = h * ib / 1.65/ d\n",
    "tau"
   ]
  },
  {
   "cell_type": "code",
   "execution_count": 3,
   "metadata": {},
   "outputs": [
    {
     "data": {
      "text/plain": [
       "array([24.492186, 40.82031 , 81.64062 ])"
      ]
     },
     "execution_count": 3,
     "metadata": {},
     "output_type": "execute_result"
    }
   ],
   "source": [
    "B*ib**0.2/h"
   ]
  },
  {
   "cell_type": "code",
   "execution_count": 5,
   "metadata": {},
   "outputs": [
    {
     "data": {
      "text/plain": [
       "array([ 90., 150., 300.])"
      ]
     },
     "execution_count": 5,
     "metadata": {},
     "output_type": "execute_result"
    }
   ],
   "source": [
    "B/h"
   ]
  },
  {
   "cell_type": "code",
   "execution_count": 6,
   "metadata": {},
   "outputs": [
    {
     "data": {
      "text/plain": [
       "array([1.95424251, 2.17609126, 2.47712125])"
      ]
     },
     "execution_count": 6,
     "metadata": {},
     "output_type": "execute_result"
    }
   ],
   "source": [
    "np.log10(B/h)"
   ]
  },
  {
   "cell_type": "code",
   "execution_count": 17,
   "metadata": {},
   "outputs": [],
   "source": [
    "from scipy import special"
   ]
  },
  {
   "cell_type": "code",
   "execution_count": 31,
   "metadata": {},
   "outputs": [],
   "source": [
    "x = (B/d)**(-0.45)*9.34*np.exp( 2.53*special.erf((np.log10(B/h) - 1.22)/0.594)) "
   ]
  },
  {
   "cell_type": "code",
   "execution_count": 21,
   "metadata": {},
   "outputs": [
    {
     "data": {
      "text/plain": [
       "array([0.7705053 , 0.53485284, 0.28135338])"
      ]
     },
     "execution_count": 21,
     "metadata": {},
     "output_type": "execute_result"
    }
   ],
   "source": [
    "x * h"
   ]
  }
 ],
 "metadata": {
  "kernelspec": {
   "display_name": "Python 3",
   "language": "python",
   "name": "python3"
  },
  "language_info": {
   "codemirror_mode": {
    "name": "ipython",
    "version": 3
   },
   "file_extension": ".py",
   "mimetype": "text/x-python",
   "name": "python",
   "nbconvert_exporter": "python",
   "pygments_lexer": "ipython3",
   "version": "3.6.10"
  },
  "toc": {
   "base_numbering": 1,
   "nav_menu": {},
   "number_sections": true,
   "sideBar": true,
   "skip_h1_title": false,
   "title_cell": "Table of Contents",
   "title_sidebar": "Contents",
   "toc_cell": true,
   "toc_position": {
    "height": "calc(100% - 180px)",
    "left": "10px",
    "top": "150px",
    "width": "176.933px"
   },
   "toc_section_display": true,
   "toc_window_display": false
  }
 },
 "nbformat": 4,
 "nbformat_minor": 4
}
