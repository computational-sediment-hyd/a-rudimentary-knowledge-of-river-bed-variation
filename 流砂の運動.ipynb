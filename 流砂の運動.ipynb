{
 "cells": [
  {
   "cell_type": "markdown",
   "metadata": {
    "slideshow": {
     "slide_type": "slide"
    }
   },
   "source": [
    "# 流砂の運動"
   ]
  },
  {
   "cell_type": "markdown",
   "metadata": {
    "slideshow": {
     "slide_type": "slide"
    }
   },
   "source": [
    "## 粒子の沈降\n",
    "\n",
    " - 静水中の粒子の沈降運動を見ると，重力$F_G$，浮力$F_B$，抵抗力$F_D$が働く.抵抗力を抗力の形式で記載すると，\n",
    " \n",
    "<div align=\"center\">\n",
    "<img src=\"fig/settling_vel.svg\" width=\"150\">\n",
    "</div>\n",
    "\n",
    "\n",
    "$$\n",
    "\\begin{align}\n",
    "    F_B - F_G &= - (\\rho - \\sigma) g V \\\\\n",
    "    F_D &= \\dfrac{1}{2}\\rho C_D A w_0^2\n",
    "\\end{align}\n",
    "$$\n"
   ]
  },
  {
   "cell_type": "markdown",
   "metadata": {
    "slideshow": {
     "slide_type": "slide"
    }
   },
   "source": [
    "より， $V=\\pi d^3/6$, $A=\\pi d^2/4$ として，\n",
    "$$\n",
    " w_0 = \\sqrt{\\dfrac{4}{3}\\dfrac{gd}{C_D}\\left(\\dfrac{\\sigma}{\\rho}-1\\right)}\n",
    "$$\n",
    " \n",
    " \n",
    " \n",
    " - 抗力は正確には，粒子に対する流れの相対速度の2乗に比例し，かつその関係により作用する向きが変わる．\n",
    " - 実際は，重力と抗力が釣り合う終末沈降速度に達するまでは加速運動をするため，それに伴う抵抗力（付加質量力）が働く．\n",
    " "
   ]
  },
  {
   "cell_type": "markdown",
   "metadata": {
    "slideshow": {
     "slide_type": "slide"
    }
   },
   "source": [
    "ここで，$C_D$が問題となる．理論的に導くことができないため，さまざまな実験式が提案されており，\n",
    "実験結果を整理すると，粒子レイノルズ数$R_e=w_0d/\\nu$の関係より下図となる．\n",
    "\n",
    " \n",
    "<div align=\"center\">\n",
    "<img src=\"fig/Cd.jpg\" width=\"500\">\n",
    "</div>\n",
    "\n",
    "「computational River Dynamics」より引用\n",
    " "
   ]
  },
  {
   "cell_type": "markdown",
   "metadata": {
    "slideshow": {
     "slide_type": "slide"
    }
   },
   "source": [
    " \n",
    " - ポイント\n",
    "    * $C_D$は粒径によって変わる．\n",
    "    * 粘性が卓越する$R_e<1$の領域は直線になる．\n",
    "    * $R_e>1000$では，粘性の影響をほとんど受けない．"
   ]
  },
  {
   "cell_type": "markdown",
   "metadata": {
    "slideshow": {
     "slide_type": "slide"
    }
   },
   "source": [
    "参考として，実務でよく用いるRubeyによる実験式を図化したものを示す．\n",
    "この図より沈降速度がわかる．\n",
    "\n",
    "<div align=\"center\">\n",
    " <img src=\"fig/rubey.jpg\" width=\"500\">\n",
    "</div>\n",
    "\n",
    "「土砂水理学Ⅰ」より引用"
   ]
  },
  {
   "cell_type": "markdown",
   "metadata": {
    "slideshow": {
     "slide_type": "slide"
    }
   },
   "source": [
    "## 移動限界\n",
    "\n",
    " - 次に流水中に河床上で運動する粒子の運動について考える．\n",
    " - 限界状態（ぎりぎり動かない状態）の流下方向の力の釣り合いより(抗力の向きに注意)，\n",
    " \n",
    "<div align=\"center\">\n",
    "<img src=\"fig/tausc_.svg\" width=\"300\">\n",
    "</div>\n",
    "\n",
    "$$\n",
    "\\begin{align}\n",
    "    F_D &= \\dfrac{1}{2}\\rho C_D A u_b^2 \\\\\n",
    "    F_\\mu &= \\mu_s * 垂直抗力 = \\mu_s (\\rho - \\sigma) g V \n",
    "\\end{align}\n",
    "$$"
   ]
  },
  {
   "cell_type": "markdown",
   "metadata": {
    "slideshow": {
     "slide_type": "slide"
    }
   },
   "source": [
    "ここで，\n",
    "\n",
    "$$\n",
    "\\begin{align}\n",
    "  \\tau_{*c}  \\equiv \\dfrac{u_{*c}^2}{sgd}, u_b \\equiv u_{*c} f\n",
    "\\end{align}\n",
    "$$\n",
    "と定義して，$V=\\pi d^3/6$, $A=\\pi d^2/4$ より，\n",
    "\n",
    "$$\n",
    "  \\tau_{*c}  = \\dfrac{4\\mu_s}{3C_Df^2} \n",
    "$$\n",
    "これが限界掃流力の定義である．"
   ]
  },
  {
   "cell_type": "markdown",
   "metadata": {
    "slideshow": {
     "slide_type": "slide"
    }
   },
   "source": [
    " - ここで，$C_D$,$f$が問題となる．$C_D$は前項と同様である．$f$は速度分布関数と呼ばれ，粒子に作用する流速の鉛直分布によって決定する．\n",
    " - 実験結果を整理すると，粒子レイノルズ数$R_e=u_{*c}d/\\nu$との関係より下図となる．なお，他にも種々の実験式が提案されている\n",
    " "
   ]
  },
  {
   "cell_type": "markdown",
   "metadata": {
    "slideshow": {
     "slide_type": "slide"
    }
   },
   "source": [
    " - この図より，その場にある土砂が動くかどうかがわかる\n",
    " \n",
    "<div align=\"center\">\n",
    " <img src=\"fig/sheilds.jpg\" width=\"700\">\n",
    "</div>\n",
    "\n",
    "「土砂水理学Ⅰ」より引用"
   ]
  },
  {
   "cell_type": "markdown",
   "metadata": {
    "slideshow": {
     "slide_type": "slide"
    }
   },
   "source": [
    " - 補足\n",
    "  * 下図のように理論では単一粒子を対象としたが，実験は下図のように単一粒径粒子が敷き詰められた状態である．\n",
    "\n",
    "  \n",
    "<div align=\"center\">\n",
    "<img src=\"fig/tausc2_.svg\" width=\"300\">\n",
    "</div>"
   ]
  },
  {
   "cell_type": "markdown",
   "metadata": {
    "slideshow": {
     "slide_type": "slide"
    }
   },
   "source": [
    "  * $R_e<6$では，このような考え方は適用できない．それは，流れの方向の釣り合いでなく鉛直方向の揚力の影響が支配的になるためである．それについては参考書を参照されたい．\n",
    "  * 実験値がバラつく要因の一つに移動する or しないの判定が研究者ごとに大きく異なっている．\n",
    "  \n",
    " "
   ]
  },
  {
   "cell_type": "markdown",
   "metadata": {
    "slideshow": {
     "slide_type": "slide"
    }
   },
   "source": [
    " ## 連続体への展開\n",
    " \n",
    " - 土粒子の運動の基礎は理解できたが，河床変動をモデル化する場合，ラグランジュ的アプローチ（土粒子1粒の運動）ではなく，オイラー的アプローチ（流砂の層を連続体として取り扱う）が一般的である．なぜでしょうか？\n",
    " "
   ]
  },
  {
   "cell_type": "markdown",
   "metadata": {
    "slideshow": {
     "slide_type": "slide"
    }
   },
   "source": [
    "<div align=\"center\">\n",
    "    <img src=\"fig/bedload_.svg\" width=\"500\">\n",
    "</div>\n",
    " \n",
    "$$\n",
    "  q_b = \\int_0^{h_s}{c u_s} dz\n",
    "$$\n",
    "ここに，$c$は$h_s$内の平均土砂濃度，$u_s$は$h_s$内の土砂の平均移動速度 "
   ]
  },
  {
   "cell_type": "code",
   "execution_count": 1,
   "metadata": {
    "hide_input": true,
    "slideshow": {
     "slide_type": "slide"
    }
   },
   "outputs": [
    {
     "data": {
      "image/jpeg": "[encoded data removed]",
      "text/html": [
       "\n",
       "        <iframe\n",
       "            width=\"400\"\n",
       "            height=\"300\"\n",
       "            src=\"https://www.youtube.com/embed/HOLFmDl4HM4\"\n",
       "            frameborder=\"0\"\n",
       "            allowfullscreen\n",
       "        ></iframe>\n",
       "        "
      ],
      "text/plain": [
       "<IPython.lib.display.YouTubeVideo at 0x20167995128>"
      ]
     },
     "execution_count": 1,
     "metadata": {},
     "output_type": "execute_result"
    }
   ],
   "source": [
    "from IPython.display import YouTubeVideo\n",
    "YouTubeVideo('HOLFmDl4HM4', width=400)"
   ]
  },
  {
   "cell_type": "markdown",
   "metadata": {
    "slideshow": {
     "slide_type": "slide"
    }
   },
   "source": [
    " - 計算負荷が大きすぎる.\n",
    " - 多点同時衝突が解けない．\n",
    " - 土砂移動が流れに与える影響が評価できない．\n",
    " - 河床の位置がよくわからない．\n",
    " - etc\n",
    " \n",
    "ラグランジュ的アプローチによる河床変動は，研究段階ではいくつかの事例はあるが現段階では実務展開は難しい．"
   ]
  },
  {
   "cell_type": "markdown",
   "metadata": {
    "slideshow": {
     "slide_type": "slide"
    }
   },
   "source": [
    " ## 流砂の分類\n",
    " \n",
    " - 連続体で取り扱う場合，運動形態の違いにより便宜的に流砂を分類する必要がある．\n",
    "  * 掃流砂：河床近傍を流れる土砂．運動形態は，滑動，転動，小跳躍．\n",
    "  * 浮遊砂：河床から巻き上げられて水中を移動する土砂．流れの乱れの影響を受け，濃度は鉛直分布を持つ．この内，微細砂（0.1mm以下）で河床から水面近傍までほぼ同じ濃度で流水中ではほとんど沈降しないものを**ウォッシュロード**と呼ぶ．\n",
    "  \n",
    "  "
   ]
  },
  {
   "cell_type": "markdown",
   "metadata": {
    "slideshow": {
     "slide_type": "slide"
    }
   },
   "source": [
    " - これらの分類は運動形態によるものであり，粒径ではない．\n",
    " \n",
    "<div align=\"center\">\n",
    "    <img src=\"fig/bedload_suspendedload.svg\" width=\"800\">\n",
    "</div>"
   ]
  }
 ],
 "metadata": {
  "celltoolbar": "Slideshow",
  "kernelspec": {
   "display_name": "Python 3",
   "language": "python",
   "name": "python3"
  },
  "language_info": {
   "codemirror_mode": {
    "name": "ipython",
    "version": 3
   },
   "file_extension": ".py",
   "mimetype": "text/x-python",
   "name": "python",
   "nbconvert_exporter": "python",
   "pygments_lexer": "ipython3",
   "version": "3.6.10"
  },
  "toc": {
   "base_numbering": 1,
   "nav_menu": {},
   "number_sections": true,
   "sideBar": true,
   "skip_h1_title": false,
   "title_cell": "Table of Contents",
   "title_sidebar": "Contents",
   "toc_cell": false,
   "toc_position": {},
   "toc_section_display": true,
   "toc_window_display": false
  }
 },
 "nbformat": 4,
 "nbformat_minor": 2
}
