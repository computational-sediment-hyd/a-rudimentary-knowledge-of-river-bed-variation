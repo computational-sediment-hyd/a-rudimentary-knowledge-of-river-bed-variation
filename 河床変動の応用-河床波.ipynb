{
 "cells": [
  {
   "cell_type": "markdown",
   "metadata": {
    "slideshow": {
     "slide_type": "slide"
    }
   },
   "source": [
    "# 河床変動の応用-河床波"
   ]
  },
  {
   "cell_type": "markdown",
   "metadata": {
    "slideshow": {
     "slide_type": "slide"
    }
   },
   "source": [
    "## 河床波の分類"
   ]
  },
  {
   "cell_type": "code",
   "execution_count": 5,
   "metadata": {
    "hide_input": true,
    "slideshow": {
     "slide_type": "slide"
    }
   },
   "outputs": [
    {
     "data": {
      "image/jpeg": "[encoded data removed]",
      "text/html": [
       "\n",
       "        <iframe\n",
       "            width=\"400\"\n",
       "            height=\"300\"\n",
       "            src=\"https://www.youtube.com/embed/jg5a49WjXgE\"\n",
       "            frameborder=\"0\"\n",
       "            allowfullscreen\n",
       "        ></iframe>\n",
       "        "
      ],
      "text/plain": [
       "<IPython.lib.display.YouTubeVideo at 0x18ba7aa5c50>"
      ]
     },
     "execution_count": 5,
     "metadata": {},
     "output_type": "execute_result"
    }
   ],
   "source": [
    "from IPython.display import YouTubeVideo\n",
    "YouTubeVideo('jg5a49WjXgE', width=400)"
   ]
  },
  {
   "cell_type": "markdown",
   "metadata": {
    "slideshow": {
     "slide_type": "slide"
    }
   },
   "source": [
    " - このような水深スケールの変化を伴う河床形状を河床波と呼ぶ。\n",
    " - 河床波もマクロな平衡状態となっている。\n",
    " - 水路から大河川までどこでも発生する。\n",
    " - 流れ場によって形状が異なる。"
   ]
  },
  {
   "cell_type": "markdown",
   "metadata": {
    "slideshow": {
     "slide_type": "slide"
    }
   },
   "source": [
    "<div align=\"center\">\n",
    "<img src=\"fig/sandwaveJSCE.jpg\" width=\"500\">\n",
    "</div>\n",
    "「土砂水理学Ⅰ」より引用"
   ]
  },
  {
   "cell_type": "markdown",
   "metadata": {
    "slideshow": {
     "slide_type": "slide"
    }
   },
   "source": [
    " - 河床波は遷移する。\n",
    " - (f)以降は射流場で生じる。\n",
    "<div align=\"center\">\n",
    "<img src=\"fig/sandwaveASCE.jpg\" width=\"500\">\n",
    "</div>\n",
    "「土砂水理学Ⅰ」より引用"
   ]
  },
  {
   "cell_type": "markdown",
   "metadata": {
    "slideshow": {
     "slide_type": "slide"
    }
   },
   "source": [
    "## 河床波が流れに与える影響"
   ]
  },
  {
   "cell_type": "markdown",
   "metadata": {
    "slideshow": {
     "slide_type": "slide"
    }
   },
   "source": [
    " - 河床波は流れに影響を与える。\n",
    "<div align=\"center\">\n",
    "<img src=\"fig/sandwaveRoughness.jpg\" width=\"500\">\n",
    "</div>\n",
    "「21世紀の河川学」より引用"
   ]
  },
  {
   "cell_type": "markdown",
   "metadata": {
    "slideshow": {
     "slide_type": "slide"
    }
   },
   "source": [
    " - 河床抵抗を示すと次式のように評価できる。\n",
    "\n",
    "$$ \n",
    "\\begin{align}\n",
    "    \\tau = \\tau' +  \\tau''\n",
    "\\end{align}\n",
    "$$\n",
    "\n",
    "ここに，$\\tau$は河床の全抵抗、$\\tau'$は摩擦抵抗、$\\tau''$は形状抵抗である。\n",
    "\n",
    " - $\\tau''$は河床波の形状によって決まる。\n",
    " - 抵抗係数（=マニングの粗度係数）はこれらを含んだ値となっている。"
   ]
  },
  {
   "cell_type": "markdown",
   "metadata": {
    "slideshow": {
     "slide_type": "slide"
    }
   },
   "source": [
    "## 数値計算\n",
    " - 河床波は流れ場の鉛直分布の影響を受けるため、これまでのように浅水流近似に基づく式で計算できない。\n",
    " - 流砂も前章までの平衡流砂量式では不十分。非平衡性を考慮する必要がある。\n",
    " - 未解明な部分が多く決定的な計算手法はないが以下がポイントとなる。\n",
    "    * 局所勾配の影響：局所の内部摩擦角が安息角に近くなるとわずかな掃流力で土砂が移動する。\n",
    "    * 流れの剥離：河床波の背後で流れの剥離が生じる。\n",
    " "
   ]
  }
 ],
 "metadata": {
  "celltoolbar": "Slideshow",
  "kernelspec": {
   "display_name": "Python 3",
   "language": "python",
   "name": "python3"
  },
  "language_info": {
   "codemirror_mode": {
    "name": "ipython",
    "version": 3
   },
   "file_extension": ".py",
   "mimetype": "text/x-python",
   "name": "python",
   "nbconvert_exporter": "python",
   "pygments_lexer": "ipython3",
   "version": "3.6.10"
  },
  "toc": {
   "base_numbering": 1,
   "nav_menu": {},
   "number_sections": true,
   "sideBar": true,
   "skip_h1_title": false,
   "title_cell": "Table of Contents",
   "title_sidebar": "Contents",
   "toc_cell": false,
   "toc_position": {},
   "toc_section_display": true,
   "toc_window_display": false
  }
 },
 "nbformat": 4,
 "nbformat_minor": 2
}
