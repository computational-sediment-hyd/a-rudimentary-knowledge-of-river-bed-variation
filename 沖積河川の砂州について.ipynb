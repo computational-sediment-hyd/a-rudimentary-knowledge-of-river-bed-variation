{
 "cells": [
  {
   "cell_type": "markdown",
   "metadata": {
    "slideshow": {
     "slide_type": "slide"
    }
   },
   "source": [
    "## 沖積河川の砂州について"
   ]
  },
  {
   "cell_type": "markdown",
   "metadata": {},
   "source": [
    "### はじめに\n",
    "\n",
    " - 沖積河川の砂州(以降、砂州)とは、\n",
    "川の流れに伴う土砂移動によって形成される川幅スケールの河床地形を示す。\n",
    " - 川幅(堤防間の幅)やその曲率等の平面的な河川地形の影響により砂州の形状が異なる。\n",
    " - 日本の土砂水理関連の書籍には砂州に関する項目は必ず記述されるが、海外の書籍には記述が少ない。理由は不明。\n"
   ]
  },
  {
   "cell_type": "markdown",
   "metadata": {},
   "source": [
    "### 砂州の分類\n"
   ]
  },
  {
   "cell_type": "markdown",
   "metadata": {},
   "source": [
    "#### 砂州の分類"
   ]
  },
  {
   "cell_type": "markdown",
   "metadata": {},
   "source": [
    "日本では[土木学会水理委員会移動床流れの抵抗と河床形状研究小委員会](https://www.jstage.jst.go.jp/article/jscej1969/1973/210/1973_210_65/_article/-char/ja/)\n",
    "で定義された次の分類を用いることが多い。\n",
    "<div align=\"center\">\n",
    "<img src=\"fig/sandwaveJSCE+.jpg\" width=\"500\">\n",
    "</div>\n",
    "\n",
    "[土砂水理学1　POD版](https://www.morikita.co.jp/books/book/1073)p.102より引用"
   ]
  },
  {
   "cell_type": "markdown",
   "metadata": {},
   "source": [
    "また、河村は次のように整理している。\n",
    "<div align=\"center\">\n",
    "<img src=\"fig/sandbars-kind.jpg\" width=\"500\">\n",
    "</div>\n",
    "\n",
    "[土砂水理学1　POD版](https://www.morikita.co.jp/books/book/1073)p.101より引用"
   ]
  },
  {
   "cell_type": "markdown",
   "metadata": {},
   "source": [
    "#### 砂州の特徴\n",
    "実河川を例にそれぞれの砂州形状の特徴を簡単に示す。"
   ]
  },
  {
   "cell_type": "markdown",
   "metadata": {
    "slideshow": {
     "slide_type": "subslide"
    }
   },
   "source": [
    "##### 交互砂州(単列砂州)\n",
    "\n",
    "左右交互に周期的に形成される砂州を示す。下流方向に伝播する。\n",
    "\n",
    " - 例 : 那賀川"
   ]
  },
  {
   "cell_type": "code",
   "execution_count": 1,
   "metadata": {
    "hide_input": false,
    "slideshow": {
     "slide_type": "fragment"
    }
   },
   "outputs": [
    {
     "data": {
      "text/html": [
       "\n",
       "        <iframe\n",
       "            width=\"800\"\n",
       "            height=\"400\"\n",
       "            src=\"https://maps.gsi.go.jp/?hc=hic#14/33.938447/134.621229/&base=ort&ls=ort%7Cgazo4&blend=0&disp=11&vs=c1j0h0k0l0u0t0z0r0s0m0f0\"\n",
       "            frameborder=\"0\"\n",
       "            allowfullscreen\n",
       "        ></iframe>\n",
       "        "
      ],
      "text/plain": [
       "<IPython.lib.display.IFrame at 0x1791596f320>"
      ]
     },
     "execution_count": 1,
     "metadata": {},
     "output_type": "execute_result"
    }
   ],
   "source": [
    "from IPython.display import IFrame\n",
    "IFrame(\"https://maps.gsi.go.jp/?hc=hic#14/33.938447/134.621229/&base=ort&ls=ort%7Cgazo4&blend=0&disp=11&vs=c1j0h0k0l0u0t0z0r0s0m0f0\" ,width=800,height=400)"
   ]
  },
  {
   "cell_type": "markdown",
   "metadata": {
    "slideshow": {
     "slide_type": "slide"
    }
   },
   "source": [
    "##### 多列砂州\n",
    "\n",
    "上述の交互砂州が河道内に2つ以上形成される砂州形状を示す。\n",
    "\n",
    " - 例：斐伊川"
   ]
  },
  {
   "cell_type": "code",
   "execution_count": 2,
   "metadata": {
    "hide_input": false,
    "slideshow": {
     "slide_type": "fragment"
    }
   },
   "outputs": [
    {
     "data": {
      "text/html": [
       "\n",
       "        <iframe\n",
       "            width=\"500\"\n",
       "            height=\"400\"\n",
       "            src=\"https://maps.gsi.go.jp/?hc=hic#16/35.414428/132.809687/&base=ort&ls=ort%7Cgazo4&blend=0&disp=11&vs=c1j0h0k0l0u0t0z0r0s0m0f0\"\n",
       "            frameborder=\"0\"\n",
       "            allowfullscreen\n",
       "        ></iframe>\n",
       "        "
      ],
      "text/plain": [
       "<IPython.lib.display.IFrame at 0x179157a29e8>"
      ]
     },
     "execution_count": 2,
     "metadata": {},
     "output_type": "execute_result"
    }
   ],
   "source": [
    "from IPython.display import IFrame\n",
    "IFrame(\"https://maps.gsi.go.jp/?hc=hic#16/35.414428/132.809687/&base=ort&ls=ort%7Cgazo4&blend=0&disp=11&vs=c1j0h0k0l0u0t0z0r0s0m0f0\" ,width=500,height=400)"
   ]
  },
  {
   "cell_type": "code",
   "execution_count": 3,
   "metadata": {
    "hide_input": true,
    "slideshow": {
     "slide_type": "slide"
    }
   },
   "outputs": [
    {
     "data": {
      "text/html": [
       "\n",
       "        <iframe\n",
       "            width=\"800\"\n",
       "            height=\"500\"\n",
       "            src=\"https://www.google.com/maps/embed?pb=!4v1589436014790!6m8!1m7!1svjLVOaONp8rfG7vPXg-Jsg!2m2!1d35.41611159377166!2d132.8138269050567!3f57.704570097648585!4f-6.681007775900639!5f0.7820865974627469\"\n",
       "            frameborder=\"0\"\n",
       "            allowfullscreen\n",
       "        ></iframe>\n",
       "        "
      ],
      "text/plain": [
       "<IPython.lib.display.IFrame at 0x1791597cd68>"
      ]
     },
     "execution_count": 3,
     "metadata": {},
     "output_type": "execute_result"
    }
   ],
   "source": [
    "from IPython.display import IFrame\n",
    "IFrame(\"https://www.google.com/maps/embed?pb=!4v1589436014790!6m8!1m7!1svjLVOaONp8rfG7vPXg-Jsg!2m2!1d35.41611159377166!2d132.8138269050567!3f57.704570097648585!4f-6.681007775900639!5f0.7820865974627469\" ,width=800,height=500)"
   ]
  },
  {
   "cell_type": "markdown",
   "metadata": {
    "slideshow": {
     "slide_type": "slide"
    }
   },
   "source": [
    "##### 網状流路\n",
    "\n",
    "洪水時に大きく変動しない（砂州上の流れの掃流力が小さい）砂州が部分的に出現することにより、周期性を持たない網状流路が形成される。\n"
   ]
  },
  {
   "cell_type": "markdown",
   "metadata": {
    "hide_input": false,
    "slideshow": {
     "slide_type": "slide"
    }
   },
   "source": [
    " - 例：釜無川\n",
    "\n",
    "画像を右クリックで再生を選択\n",
    "<video width=\"640\" height=\"360\" src=\"https://storage.googleapis.com/planet-t2/kamanashi-multiplesandbar-2EXwE13WR/movie.mp4\" />"
   ]
  },
  {
   "cell_type": "markdown",
   "metadata": {
    "slideshow": {
     "slide_type": "slide"
    }
   },
   "source": [
    "##### 固定砂州\n",
    "\n",
    "湾曲部にみられる砂州で経年的に形状が変化しない。砂州を形成する土砂は動いているが砂州形状は変化しない。\n",
    "\n",
    " - 例：太田川（左：2008年、右：1961-69年）"
   ]
  },
  {
   "cell_type": "code",
   "execution_count": 4,
   "metadata": {},
   "outputs": [
    {
     "data": {
      "text/html": [
       "\n",
       "        <iframe\n",
       "            width=\"800\"\n",
       "            height=\"400\"\n",
       "            src=\"https://maps.gsi.go.jp/?hc=hic#15/34.508077/132.482532/&ls=ort%7Cseamlessphoto%7Cnendophoto2008&blend=0&disp=001&vs=c1j0h0k0l0u0t0z0r0s1m0f0&vs2=f0&sync=1&ls2=std%7Cort_old10&blend2=0&disp2=11\"\n",
       "            frameborder=\"0\"\n",
       "            allowfullscreen\n",
       "        ></iframe>\n",
       "        "
      ],
      "text/plain": [
       "<IPython.lib.display.IFrame at 0x1791597cf98>"
      ]
     },
     "execution_count": 4,
     "metadata": {},
     "output_type": "execute_result"
    }
   ],
   "source": [
    "from IPython.display import IFrame\n",
    "IFrame( \"https://maps.gsi.go.jp/?hc=hic#15/34.508077/132.482532/&ls=ort%7Cseamlessphoto%7Cnendophoto2008&blend=0&disp=001&vs=c1j0h0k0l0u0t0z0r0s1m0f0&vs2=f0&sync=1&ls2=std%7Cort_old10&blend2=0&disp2=11\", width=800,height=400)"
   ]
  },
  {
   "cell_type": "markdown",
   "metadata": {},
   "source": [
    "### 砂州の形成機構\n",
    " - 平面的な流れ場の影響によって砂州が形成される。\n",
    " - 流砂は局所的な地形勾配の影響を強く受ける。\n",
    " - 固定砂州を考える場合は、鉛直方向の二次流の流砂への影響を考慮する必要がある。"
   ]
  },
  {
   "cell_type": "markdown",
   "metadata": {
    "slideshow": {
     "slide_type": "slide"
    }
   },
   "source": [
    " - [黒木, 岸](https://www.jstage.jst.go.jp/article/jscej1969/1984/342/1984_342_87/_article/-char/ja/)\n",
    " の線形安定化解析より砂州形状は川幅と水深の比によって決定することがわかる。\n",
    "<div align=\"center\">\n",
    "<img src=\"fig/sandbar.jpg\" width=\"500\">\n",
    "</div>\n",
    "\n",
    "[21世紀の河川学](http://www.kyoto-up.or.jp/books/9784876987658.html)p.119より引用"
   ]
  },
  {
   "cell_type": "markdown",
   "metadata": {
    "slideshow": {
     "slide_type": "slide"
    }
   },
   "source": [
    "### おわりに\n",
    "\n",
    " - サステイナブルな川とのつき合い方を考える上で砂州の概念は非常に重要です。\n",
    " - 砂州は流水断面を阻害するため、水位を下げる観点からは無い方が良いが、掘削してもわずか数年で元に戻ってしまいます。膨大な費用をかけて掘削したのに次の年には元に戻った事例もあります。\n",
    " - また、砂州の環境的な価値（生態系、景観、親水等）も重要視されております。\n",
    " - 近年の観測技術の向上により、水面下にも砂州が形成されていることが確認されており(例えば、[秋田:水中の河床地形の面的計測とその活用方策について](https://www.n-koei.co.jp/rd/thesis/pdf/201803/forum26_009.pdf)等）、今後より知見が増えていくと思われる。\n",
    " "
   ]
  }
 ],
 "metadata": {
  "celltoolbar": "Slideshow",
  "kernelspec": {
   "display_name": "Python 3",
   "language": "python",
   "name": "python3"
  },
  "language_info": {
   "codemirror_mode": {
    "name": "ipython",
    "version": 3
   },
   "file_extension": ".py",
   "mimetype": "text/x-python",
   "name": "python",
   "nbconvert_exporter": "python",
   "pygments_lexer": "ipython3",
   "version": "3.6.10"
  },
  "toc": {
   "base_numbering": 1,
   "nav_menu": {},
   "number_sections": true,
   "sideBar": true,
   "skip_h1_title": false,
   "title_cell": "Table of Contents",
   "title_sidebar": "Contents",
   "toc_cell": false,
   "toc_position": {},
   "toc_section_display": true,
   "toc_window_display": true
  }
 },
 "nbformat": 4,
 "nbformat_minor": 2
}
