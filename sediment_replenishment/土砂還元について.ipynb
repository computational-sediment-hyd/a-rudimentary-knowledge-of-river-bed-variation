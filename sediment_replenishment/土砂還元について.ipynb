{
 "cells": [
  {
   "cell_type": "markdown",
   "id": "21f89bf7",
   "metadata": {},
   "source": [
    "## 土砂還元について"
   ]
  },
  {
   "cell_type": "markdown",
   "id": "3f7b7256",
   "metadata": {
    "toc": true
   },
   "source": [
    "<h1>Table of Contents<span class=\"tocSkip\"></span></h1>\n",
    "<div class=\"toc\"><ul class=\"toc-item\"><li><span><a href=\"#土砂還元について\" data-toc-modified-id=\"土砂還元について-1\"><span class=\"toc-item-num\">1&nbsp;&nbsp;</span>土砂還元について</a></span><ul class=\"toc-item\"><li><span><a href=\"#土砂還元の必要性\" data-toc-modified-id=\"土砂還元の必要性-1.1\"><span class=\"toc-item-num\">1.1&nbsp;&nbsp;</span>土砂還元の必要性</a></span><ul class=\"toc-item\"><li><span><a href=\"#動的平衡河道とは\" data-toc-modified-id=\"動的平衡河道とは-1.1.1\"><span class=\"toc-item-num\">1.1.1&nbsp;&nbsp;</span>動的平衡河道とは</a></span></li><li><span><a href=\"#河道の平面形を考慮した動的平衡河道\" data-toc-modified-id=\"河道の平面形を考慮した動的平衡河道-1.1.2\"><span class=\"toc-item-num\">1.1.2&nbsp;&nbsp;</span>河道の平面形を考慮した動的平衡河道</a></span></li><li><span><a href=\"#ダム建設後の河床状態\" data-toc-modified-id=\"ダム建設後の河床状態-1.1.3\"><span class=\"toc-item-num\">1.1.3&nbsp;&nbsp;</span>ダム建設後の河床状態</a></span></li></ul></li><li><span><a href=\"#土砂還元のモデリング\" data-toc-modified-id=\"土砂還元のモデリング-1.2\"><span class=\"toc-item-num\">1.2&nbsp;&nbsp;</span>土砂還元のモデリング</a></span><ul class=\"toc-item\"><li><span><a href=\"#基本認識1：混合粒径の河床変動\" data-toc-modified-id=\"基本認識1：混合粒径の河床変動-1.2.1\"><span class=\"toc-item-num\">1.2.1&nbsp;&nbsp;</span>基本認識1：混合粒径の河床変動</a></span></li><li><span><a href=\"#基本認識2：混合粒径河床の移動限界\" data-toc-modified-id=\"基本認識2：混合粒径河床の移動限界-1.2.2\"><span class=\"toc-item-num\">1.2.2&nbsp;&nbsp;</span>基本認識2：混合粒径河床の移動限界</a></span></li><li><span><a href=\"#通常の河床変動モデルを用いることの問題点\" data-toc-modified-id=\"通常の河床変動モデルを用いることの問題点-1.2.3\"><span class=\"toc-item-num\">1.2.3&nbsp;&nbsp;</span>通常の河床変動モデルを用いることの問題点</a></span></li><li><span><a href=\"#新たなアプローチ\" data-toc-modified-id=\"新たなアプローチ-1.2.4\"><span class=\"toc-item-num\">1.2.4&nbsp;&nbsp;</span>新たなアプローチ</a></span></li></ul></li><li><span><a href=\"#土砂還元検討の実務\" data-toc-modified-id=\"土砂還元検討の実務-1.3\"><span class=\"toc-item-num\">1.3&nbsp;&nbsp;</span>土砂還元検討の実務</a></span><ul class=\"toc-item\"><li><span><a href=\"#土砂還元の短期的な目標の設定\" data-toc-modified-id=\"土砂還元の短期的な目標の設定-1.3.1\"><span class=\"toc-item-num\">1.3.1&nbsp;&nbsp;</span>土砂還元の短期的な目標の設定</a></span></li><li><span><a href=\"#試験施工の実施\" data-toc-modified-id=\"試験施工の実施-1.3.2\"><span class=\"toc-item-num\">1.3.2&nbsp;&nbsp;</span>試験施工の実施</a></span></li><li><span><a href=\"#予測技術の開発\" data-toc-modified-id=\"予測技術の開発-1.3.3\"><span class=\"toc-item-num\">1.3.3&nbsp;&nbsp;</span>予測技術の開発</a></span></li></ul></li></ul></li></ul></div>"
   ]
  },
  {
   "cell_type": "markdown",
   "id": "5aca0e21",
   "metadata": {},
   "source": [
    "### 土砂還元の必要性\n",
    "\n",
    " - 土砂還元とは、ダムによって遮断された土砂をダム下流河道に人為的に供給すること。\n",
    " - 土砂還元の目的は、ダム等によって河床材料が粗粒化した河道から元の動的平衡河道を再現すること。\n",
    " \n",
    "<div align=\"center\">\n",
    "<img src=\"futase.png\" width=\"1000\">\n",
    "<a href=\"https://www.ktr.mlit.go.jp/ktr_content/content/000667296.pdf\">第25回 関東地方ダム等管理フォローアップ委員会 二瀬ダム定期報告書</a>より引用\n",
    "</div> \n",
    " \n",
    "#### 動的平衡河道とは\n",
    "\n",
    "河床の質量保存則は次式のとおりであり、河床位方程式又はエクスナーの式と呼ばれる。\n",
    "\n",
    "$$ \n",
    "\\begin{align}\n",
    "    (1-\\lambda)\\frac{\\partial z_{b}}{\\partial t}+\\frac{\\partial q_b}{\\partial x}= 0\n",
    "\\end{align}\n",
    "$$\n",
    "\n",
    "ここに，$z_{b}$:河床高、$q_b$:流砂量式、$\\lambda$:空隙率である．\n",
    "\n",
    "<div align=\"center\">\n",
    "<img src=\"../fig/zbcont_.svg\" width=\"300\">\n",
    "</div>\n",
    " \n",
    "この式において、 $\\frac{\\partial q_b}{\\partial x}= 0$かつ$q_b \\neq 0$が、動的平衡河道の条件である。\n",
    "つまり、土砂は移動するが河床変動が生じない状態を示す。\n",
    "\n",
    "この動的平衡河道は、自然な（人がコントロールしない）状態で自律的に形成されことが知られている。\n",
    "\n",
    "この土砂移動がもたらす適度な擾乱が生物の多様性（⇔単調化）を生むと考えられている。\n",
    "\n",
    "\n",
    "※ 河道形成のメカニズムを考えると、沖積河川は長期的には堆積傾向となり、動的平衡状態とはならない。そのため、このような考え方は数十年程度のタイムスケールでのみ成立する。\n"
   ]
  },
  {
   "cell_type": "markdown",
   "id": "49d907ed",
   "metadata": {},
   "source": [
    "\n",
    "#### 河道の平面形を考慮した動的平衡河道\n",
    "\n",
    "作成中"
   ]
  },
  {
   "cell_type": "markdown",
   "id": "dc5ca697",
   "metadata": {},
   "source": [
    "\n",
    "#### ダム建設後の河床状態\n",
    "\n",
    "\n",
    "ダム建設により流砂が遮断されるため、上手において$q_{bin}=0$となり、河床が低下し続けることとなる。\n",
    "\n",
    "単一粒径の場合はそのような現象が起こるが、山地河川では大小様々な粒径の礫が河床を形成する混合粒径河床であるため、異なった現象が生じる。\n",
    "\n",
    "河床に存在する小礫のみが流出し大礫のみが存知する状態が形成される。\n",
    "\n",
    "<div align=\"center\">\n",
    "<img src=\"sakau.png\" width=\"300\">\n",
    "<a href=\"https://www.pref.kanagawa.jp/documents/10590/04_sakawagawa-dosyakanri_201803.pdf\">酒匂川総合土砂管理プラン - 4.酒匂川流砂系の課題</a>より引用\n",
    "</div>\n",
    "\n",
    "これが、粗粒化した河床又はアーマーコートと呼ばれ、ダム下流河道でよくみられる河床の状態である。\n",
    "\n",
    "この状態は、$q_{bin}=q_{bout}=0$となり、静的平衡状態と呼ばれる。\n",
    "この状態では、河床の擾乱が生じないため、生態系の単調化が進むと考えられている。"
   ]
  },
  {
   "cell_type": "markdown",
   "id": "ffe82026",
   "metadata": {},
   "source": [
    "### 土砂還元のモデリング"
   ]
  },
  {
   "cell_type": "markdown",
   "id": "ec4d987c",
   "metadata": {},
   "source": [
    "#### 基本認識1：混合粒径の河床変動\n",
    "\n",
    "前述の河床位方程式を混合粒径河床に適用できるように[平野:Armoring をともなう河床低下について](https://www.jstage.jst.go.jp/article/jscej1969/1971/195/1971_195_55/_pdf/-char/ja)は下式のようにモデル化した。\n",
    "$$ \n",
    "\\begin{align}\n",
    "    (1-\\lambda)\\frac{\\partial A_{b}}{\\partial t}+\\frac{\\partial }{\\partial x} \\sum_{i=1}^n ( Q_{bi}P_i) &= 0 \\\\\n",
    "    Q_{bi} = { \\rm func} (\\tau_{*i} )\n",
    "\\end{align}\n",
    "$$ \n",
    "\n",
    "$$ \n",
    "\\begin{align}\n",
    "    \\frac{\\partial P_i}{\\partial t} &= - \\frac{1}{E_d B}\\left(\\frac{\\partial A_{bi}}{\\partial t} + P_{si}\\frac{\\partial A_b}{\\partial t}\\right) \n",
    "\\end{align}\n",
    "$$ \n",
    "\n",
    "ここに，$P_i$:河床の交換層の各粒度の含有率、$E_d$:交換層厚である。\n",
    "\n",
    "<div align=\"center\">\n",
    "<img src=\"../fig/mixedgrain.jpg\" width=\"300\">\n",
    "<a href=\"https://www.kyoritsu-pub.co.jp/bookdetail/9784320074163\">関根：移動床流れの水理学</a>より引用\n",
    "</div> \n",
    "\n",
    "この方法では、河床変動と同時に交換層の河床材料の粒度分布の変化を計算する。\n",
    "\n",
    "具体的な計算方法は、[岡部：急流河川の1次元河床変動(その2)](https://www.jstage.jst.go.jp/article/sabo1973/50/4/50_4_57/_pdf)が詳しい。\n",
    " \n",
    "実際の計算では、河床変動による交換層下の粒度分布の変動履歴を反映できるようにこの手法を拡張した劉らによる交換層-遷移層-堆積層モデル（[芦田、江頭、劉：二層モデルによる複断面河道の流れおよび河床変動の数値解析](https://repository.kulib.kyoto-u.ac.jp/dspace/bitstream/2433/72421/1/a35b2p04.pdf)）を使うことが多い。"
   ]
  },
  {
   "cell_type": "markdown",
   "id": "c57637ac",
   "metadata": {},
   "source": [
    "#### 基本認識2：混合粒径河床の移動限界\n",
    "\n",
    "単一粒径河床の砂礫の移動限界掃流力は、シールズ図表等の実験式で示されるが、混合粒径河床では、\n",
    "\n",
    " - 平均粒径より大きい粒径は動きやすく(突出効果)\n",
    " - 平均粒径より大小さい粒径は動きにくくなる(遮蔽効果)\n",
    " \n",
    "の影響を考慮して移動限界掃流力の補正を行う必要がある。\n",
    "\n",
    " \n",
    "<div align=\"center\">\n",
    "    <img src=\"../fig/mixedgrain.svg\" width=\"400\">\n",
    "</div>\n",
    "\n",
    "いくつかの式が提案されているが，芦田、道上により修正されたエギアザロフの式が多いようである。\n",
    "\n",
    "$$\n",
    "\\begin{align}\n",
    "    \\frac{\\tau_{*c i}}{\\tau_{*cm}} &= 0.85 \\frac{D_m}{D_i} \\qquad & \\left(\\frac{D_i}{D_m} < 0.4 \\right) \\\\\n",
    "    \\dfrac{\\tau_{*ci}}{\\tau_{*cm}} &= \\left( \\dfrac{ \\displaystyle \\log_e 19 }{ \\displaystyle \\log_e \\left(19\\dfrac{D_i}{D_m} \\right) } \\right)^2 \\qquad & \\left(\\frac{D_i}{D_m} \\geq 0.4 \\right)\n",
    "\\end{align}\n",
    "$$\n",
    "\n",
    "ここに，$D_m$:交換層の平均粒径河床、$\\tau_{*c i}$:粒径$D_i$の移動限界無次元掃流力である。"
   ]
  },
  {
   "cell_type": "markdown",
   "id": "be2167ac",
   "metadata": {},
   "source": [
    "#### 通常の河床変動モデルを用いることの問題点\n",
    "\n",
    "\n",
    " モデル河道でのテスト計算を実施した。\n",
    "\n",
    " - 流量300m3/s\n",
    " - 河床勾配1/100、川幅50m、矩形断面、区間距離100m、マニングの粗度係数0.035 \n",
    " - 河床材料300mm(初期の無次元掃流力0.032) \n",
    " - 上流端から5mm(初期の無次元掃流力1.94)の平衡給砂（置き土をイメージ）\n",
    " - 計算時間は10時間\n",
    " - 交換層厚 case1:河床材料の3倍900mm、case2の1/3倍100mm"
   ]
  },
  {
   "cell_type": "code",
   "execution_count": 12,
   "id": "628e9d5d",
   "metadata": {},
   "outputs": [
    {
     "data": {
      "text/html": [
       "\n",
       "        <iframe\n",
       "            width=\"700\"\n",
       "            height=\"1050\"\n",
       "            src=\"calout.html\"\n",
       "            frameborder=\"0\"\n",
       "            allowfullscreen\n",
       "        ></iframe>\n",
       "        "
      ],
      "text/plain": [
       "<IPython.lib.display.IFrame at 0x20cf0e7efc8>"
      ]
     },
     "execution_count": 12,
     "metadata": {},
     "output_type": "execute_result"
    }
   ],
   "source": [
    "from IPython.display import IFrame\n",
    "IFrame(\"calout.html\",width=700,height=1050)"
   ]
  },
  {
   "cell_type": "markdown",
   "id": "52396a4b",
   "metadata": {},
   "source": [
    " - 問題点1：河床変動量が大きすぎる\n",
    "   * 300mmの河床に5mmを供給しても空隙に充填されてほとんど河床変動は生じない。 ⇒ 空隙率の評価方法\n",
    "   \n",
    " - 問題点2：300mの粒径が動き出す\n",
    "   * 多分動かないはずのない300mの材料が動き出す。⇒ 移動限界の評価方法\n",
    "   \n",
    " - 問題点3：交換層厚によって全く答えが異なる。\n",
    "   * 交換層厚の意味って？本来物理的に決定するはず。⇒ 交換層厚の評価方法"
   ]
  },
  {
   "cell_type": "markdown",
   "id": "ce2d1730",
   "metadata": {},
   "source": [
    "#### 新たなアプローチ\n",
    "\n",
    "大礫間の礫、砂の運動は明らかに上述の平野の方法等が想定するものとは明らかに異なっている。"
   ]
  },
  {
   "cell_type": "code",
   "execution_count": 1,
   "id": "f166d808",
   "metadata": {},
   "outputs": [
    {
     "data": {
      "text/html": [
       "<blockquote class=\"twitter-tweet\"><p lang=\"en\" dir=\"ltr\">Move, my pretties.... <a href=\"https://twitter.com/hashtag/flumefriday?src=hash&amp;ref_src=twsrc%5Etfw\">#flumefriday</a> <a href=\"https://t.co/zUHGeckmSW\">pic.twitter.com/zUHGeckmSW</a></p>&mdash; Lizzie Dingle (@lizzie_dingle) <a href=\"https://twitter.com/lizzie_dingle/status/1197966305480982528?ref_src=twsrc%5Etfw\">November 22, 2019</a></blockquote> <script async src=\"https://platform.twitter.com/widgets.js\" charset=\"utf-8\"></script> \n"
      ],
      "text/plain": [
       "<IPython.core.display.HTML object>"
      ]
     },
     "metadata": {},
     "output_type": "display_data"
    }
   ],
   "source": [
    "%%html\n",
    "<blockquote class=\"twitter-tweet\"><p lang=\"en\" dir=\"ltr\">Move, my pretties.... <a href=\"https://twitter.com/hashtag/flumefriday?src=hash&amp;ref_src=twsrc%5Etfw\">#flumefriday</a> <a href=\"https://t.co/zUHGeckmSW\">pic.twitter.com/zUHGeckmSW</a></p>&mdash; Lizzie Dingle (@lizzie_dingle) <a href=\"https://twitter.com/lizzie_dingle/status/1197966305480982528?ref_src=twsrc%5Etfw\">November 22, 2019</a></blockquote> <script async src=\"https://platform.twitter.com/widgets.js\" charset=\"utf-8\"></script> "
   ]
  },
  {
   "cell_type": "markdown",
   "id": "936c4255",
   "metadata": {},
   "source": [
    "この課題に対する流砂のモデリングについては、研究段階であり、すぐに実務展開できるものは無いが興味のある方は以下の研究成果をフォローした方が良い。\n",
    "\n",
    " - 礫間の浮遊砂の巻き上げに関する研究\n",
    "  *  [芦田、藤田：河床粒子の浮遊機構とそのモデル化](https://www.jstage.jst.go.jp/article/jscej1984/1986/375/1986_375_79/_pdf)\n",
    "  * [関根ら：礫・シルト充填河床モデルを用いた礫河道の準二次元河床変動解析](https://www.jstage.jst.go.jp/article/prohe1990/51/0/51_0_973/_pdf)\n",
    "  \n",
    " - 礫間の掃流砂の運動に関する研究\n",
    "  * 早稲田大学関根先生のシリーズ-現時点ではこれがおすすめか。[平松ら：大礫群の間隙に存在する掃流砂として輸送される砂礫の三次元構造](https://www.jstage.jst.go.jp/article/jscejhe/74/5/74_I_913/_pdf/-char/ja)\n",
    "  \n",
    " - 空隙率に関する研究\n",
    "   * [SULAIMANら:POROSITY OF SEDIMENT MIXTURES WITH DIFFERENT TYPE OF GRAIN SIZE DISTRIBUTION](https://www.jstage.jst.go.jp/article/prohe1990/51/0/51_0_133/_article/-char/ja/)\n",
    "   * 上の同じようなもので日本語のもの：藤田正治, Muhammad SULAIMAN, Jazaul IKHSAN, 堤大三：河床材料の空隙率の変化を考慮した河床変動モデルとその適用, 河川技術論文集, 第14巻, pp. 13-18, 2008.\n",
    "   * 上の方法を実河川に展開：[岩見、藤田：石礫河床の空隙に細粒土砂が充填される場に対する連続した粒度を考慮した河床変動モデルの開発](https://www.jstage.jst.go.jp/article/jscejhe/73/4/73_I_919/_article/-char/ja)"
   ]
  },
  {
   "cell_type": "markdown",
   "id": "93ac0589",
   "metadata": {},
   "source": [
    "### 土砂還元検討の実務\n",
    "\n",
    "土砂還元業務をスムーズに進めていくために必要なことを簡単に列挙しておきます。\n",
    "\n",
    "#### 土砂還元の短期的な目標の設定\n",
    "\n",
    " - 前述のとおり、土砂還元の最終目的は長期的で壮大であり、事業の効果を評価しづらい。\n",
    " - そのため、短期的で客観的に評価できる指標を設定することが望ましい。\n",
    " - その一つとしては、魚類、藻類等の河川生態環境に関する指標が挙げられる。\n",
    "\n",
    "#### 試験施工の実施\n",
    "\n",
    " - 上述のとおり、数値予測には限界があり、試験施工とモニタリングを実施しPDCAサイクルを回していく他は無い。\n",
    " - 可能な限り、還元量を大きくし、幅広い粒度（ダムが無い場合と同様）とすることが望ましい。\n",
    " \n",
    "#### 予測技術の開発\n",
    "\n",
    " - 物理モデルの開発が急務（今日まで実現していないのは明らかに我々の怠惰）。パラメータの調整とかそういう次元ではない。\n",
    " - 実験の知見を実河川に展開するためには、高精度かつ連続的なモニタリングデータが必須である。"
   ]
  }
 ],
 "metadata": {
  "kernelspec": {
   "display_name": "Python 3",
   "language": "python",
   "name": "python3"
  },
  "language_info": {
   "codemirror_mode": {
    "name": "ipython",
    "version": 3
   },
   "file_extension": ".py",
   "mimetype": "text/x-python",
   "name": "python",
   "nbconvert_exporter": "python",
   "pygments_lexer": "ipython3",
   "version": "3.7.10"
  },
  "toc": {
   "base_numbering": 1,
   "nav_menu": {},
   "number_sections": true,
   "sideBar": true,
   "skip_h1_title": false,
   "title_cell": "Table of Contents",
   "title_sidebar": "Contents",
   "toc_cell": true,
   "toc_position": {
    "height": "661.5px",
    "left": "650px",
    "top": "110.883px",
    "width": "201.167px"
   },
   "toc_section_display": true,
   "toc_window_display": true
  }
 },
 "nbformat": 4,
 "nbformat_minor": 5
}
