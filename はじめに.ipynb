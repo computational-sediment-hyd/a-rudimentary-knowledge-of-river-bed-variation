{
 "cells": [
  {
   "cell_type": "markdown",
   "metadata": {
    "slideshow": {
     "slide_type": "slide"
    }
   },
   "source": [
    "# はじめに"
   ]
  },
  {
   "cell_type": "markdown",
   "metadata": {
    "slideshow": {
     "slide_type": "slide"
    }
   },
   "source": [
    "## 土砂水理の現状\n",
    "\n",
    " - 未解明な部分が多く，学問として体系化されていない．\n",
    " - 「誰々の式」が大量に出現し，物理的で無いように見える（哲学的？）．\n",
    " - 世の中に出回っている資料が間違いだらけ．\n",
    " - 研究者が少ない．\n",
    " - しかし，土砂水理を理解しないと川はわからない（一番の問題）．\n",
    " - そこで，本講義では土砂水理を力学的に捉えるための基礎知識を示す"
   ]
  },
  {
   "cell_type": "markdown",
   "metadata": {
    "slideshow": {
     "slide_type": "slide"
    }
   },
   "source": [
    "## 対象領域\n",
    " - 河川領域を対象.崩壊，土石流領域は今回は対象外．\n",
    " <img src=\"fig/segment.jpg\" width=\"500\">\n",
    "「21世紀の河川学」より引用．一部追記"
   ]
  },
  {
   "cell_type": "markdown",
   "metadata": {
    "slideshow": {
     "slide_type": "slide"
    }
   },
   "source": [
    "## 参考図書\n",
    "\n",
    "* これまでに国内で発売された河床変動，土砂水理，流砂を専門に取り扱った日本語の書籍はわずかに10冊程度．そのうち半数は絶版．\n",
    "* 本日の資料は現在でも入手可能な以下の書籍を元に作成した．\n",
    "\n",
    " - [移動床流れの水理学](https://www.kyoritsu-pub.co.jp/bookdetail/9784320074163)\n",
    " - [土砂水理学1　POD版](https://www.morikita.co.jp/books/book/1073)\n",
    " - [21世紀の河川学](http://www.kyoto-up.or.jp/books/9784876987658.html)\n",
    " - [Computational River Dynamics](https://www.crcpress.com/Computational-River-Dynamics/Wu/p/book/9780415449601)\n",
    " \n",
    " "
   ]
  },
  {
   "cell_type": "markdown",
   "metadata": {
    "slideshow": {
     "slide_type": "slide"
    }
   },
   "source": [
    " - 数値計算の入門書は以下がおすすめ。\n",
    "   - [山地河川における河床変動の数値計算法](https://www.amazon.co.jp/exec/obidos/ASIN/4381013638/hatena-blog-22/)\n",
    "  \n",
    "  ※絶版です。この書籍の元になった論文をまとめたサイトを見つけたのでリンクを貼っておきます。(https://computational-sediment-hyd.hatenablog.jp/entry/2020/02/24/133106)"
   ]
  }
 ],
 "metadata": {
  "celltoolbar": "Slideshow",
  "kernelspec": {
   "display_name": "Python 3",
   "language": "python",
   "name": "python3"
  },
  "language_info": {
   "codemirror_mode": {
    "name": "ipython",
    "version": 3
   },
   "file_extension": ".py",
   "mimetype": "text/x-python",
   "name": "python",
   "nbconvert_exporter": "python",
   "pygments_lexer": "ipython3",
   "version": "3.6.10"
  },
  "toc": {
   "base_numbering": 1,
   "nav_menu": {},
   "number_sections": true,
   "sideBar": true,
   "skip_h1_title": false,
   "title_cell": "Table of Contents",
   "title_sidebar": "Contents",
   "toc_cell": false,
   "toc_position": {},
   "toc_section_display": true,
   "toc_window_display": false
  }
 },
 "nbformat": 4,
 "nbformat_minor": 2
}
